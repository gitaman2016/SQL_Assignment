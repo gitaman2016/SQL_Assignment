{
 "cells": [
  {
   "cell_type": "raw",
   "id": "f1135021",
   "metadata": {},
   "source": [
    "Q-1. Write an SQL query to fetch “FIRST_NAME” from Worker table using the alias name as <WORKER_NAME>.\n",
    "Ans: select FIRST_NAME from WORKER_NAME;"
   ]
  },
  {
   "cell_type": "raw",
   "id": "4dbe0eb4",
   "metadata": {},
   "source": [
    "Q-2. Write an SQL query to fetch unique values of DEPARTMENT from Worker table.\n",
    "Ans:select DISTINCT DEPARTMENT from Worker table;"
   ]
  },
  {
   "cell_type": "raw",
   "id": "88bf7c21",
   "metadata": {},
   "source": [
    "Q-3. Write an SQL query to show the last 5 record from a table.\n",
    "Ans: select * from table order by DESC limit 5;"
   ]
  }
 ],
 "metadata": {
  "kernelspec": {
   "display_name": "Python 3",
   "language": "python",
   "name": "python3"
  },
  "language_info": {
   "codemirror_mode": {
    "name": "ipython",
    "version": 3
   },
   "file_extension": ".py",
   "mimetype": "text/x-python",
   "name": "python",
   "nbconvert_exporter": "python",
   "pygments_lexer": "ipython3",
   "version": "3.8.8"
  }
 },
 "nbformat": 4,
 "nbformat_minor": 5
}
